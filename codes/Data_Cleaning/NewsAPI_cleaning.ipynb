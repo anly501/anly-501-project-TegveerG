{
 "cells": [
  {
   "cell_type": "markdown",
   "metadata": {},
   "source": [
    "# NewsAPI Tokenizing, Lemmatizing"
   ]
  },
  {
   "cell_type": "code",
   "execution_count": 1,
   "metadata": {},
   "outputs": [
    {
     "name": "stderr",
     "output_type": "stream",
     "text": [
      "/Users/Tegveer/miniforge3/envs/ANLY501/lib/python3.9/site-packages/scipy/__init__.py:146: UserWarning: A NumPy version >=1.16.5 and <1.23.0 is required for this version of SciPy (detected version 1.23.1\n",
      "  warnings.warn(f\"A NumPy version >={np_minversion} and <{np_maxversion}\"\n"
     ]
    }
   ],
   "source": [
    "import pandas as pd\n",
    "import numpy as np\n",
    "import nltk\n",
    "#nltk.download('stopwords')\n",
    "#nltk.download('punkt')\n",
    "\n",
    "news = pd.read_csv(\"../../data/Clean Data/NewsApi_clean.csv\")"
   ]
  },
  {
   "cell_type": "code",
   "execution_count": 2,
   "metadata": {},
   "outputs": [],
   "source": [
    "import re\n",
    "from nltk.corpus import stopwords\n",
    "\n",
    "additional  = ['rt','rts','retweet', '.rt', '#', '»']\n",
    "swords = set().union(stopwords.words('english'),additional)\n",
    "news['Processed_Text'] = news['content'].str.lower().apply(lambda x: re.sub(r\"(?:\\@|https?\\://)\\S+\", \"\", x))\n",
    "\n",
    "news_clean = pd.DataFrame()\n",
    "\n",
    "from nltk import word_tokenize\n",
    "from nltk import sent_tokenize\n",
    "news_clean['Tokenized_Text'] = [list(map(str.lower, word_tokenize(sent))) \n",
    "                  for sent in sent_tokenize(\".\".join(news['Processed_Text']))]\n",
    "\n",
    "def remove_stopwords(text):\n",
    "    text = [word for word in text if word not in swords]\n",
    "    return text\n",
    "\n",
    "news_clean['Content_Clean'] = news_clean['Tokenized_Text'].apply(lambda x: remove_stopwords(x))\n",
    "\n",
    "#nltk.download('wordnet')\n",
    "wordnet = nltk.WordNetLemmatizer()\n",
    "\n",
    "def lemmatizer(text):\n",
    "    text = [wordnet.lemmatize(word) for word in text]\n",
    "    return text\n",
    "\n",
    "news_clean['Content_Lemmatized'] = news_clean['Content_Clean'].apply(lambda x: lemmatizer(x))\n",
    "news_clean.head()\n",
    "\n",
    "news_clean.to_csv(\"../../data/Clean Data/Clean_TokeLemm_News.csv\")"
   ]
  }
 ],
 "metadata": {
  "kernelspec": {
   "display_name": "Python 3.9.13 ('ANLY501')",
   "language": "python",
   "name": "python3"
  },
  "language_info": {
   "codemirror_mode": {
    "name": "ipython",
    "version": 3
   },
   "file_extension": ".py",
   "mimetype": "text/x-python",
   "name": "python",
   "nbconvert_exporter": "python",
   "pygments_lexer": "ipython3",
   "version": "3.9.13"
  },
  "orig_nbformat": 4,
  "vscode": {
   "interpreter": {
    "hash": "fe3850336ae7e16fe4521d887235e5784c5e3aaefe260f8a320996f0c8242fd1"
   }
  }
 },
 "nbformat": 4,
 "nbformat_minor": 2
}
