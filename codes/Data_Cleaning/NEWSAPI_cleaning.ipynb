{
 "cells": [
  {
   "cell_type": "code",
   "execution_count": 8,
   "metadata": {},
   "outputs": [],
   "source": [
    "import pandas as pd\n",
    "import numpy as np\n",
    "\n",
    "news_api_df = pd.read_csv('../../data/Raw Data/Python_News_API/NewsApi_raw.csv')"
   ]
  },
  {
   "cell_type": "code",
   "execution_count": 9,
   "metadata": {},
   "outputs": [
    {
     "data": {
      "text/html": [
       "<div>\n",
       "<style scoped>\n",
       "    .dataframe tbody tr th:only-of-type {\n",
       "        vertical-align: middle;\n",
       "    }\n",
       "\n",
       "    .dataframe tbody tr th {\n",
       "        vertical-align: top;\n",
       "    }\n",
       "\n",
       "    .dataframe thead th {\n",
       "        text-align: right;\n",
       "    }\n",
       "</style>\n",
       "<table border=\"1\" class=\"dataframe\">\n",
       "  <thead>\n",
       "    <tr style=\"text-align: right;\">\n",
       "      <th></th>\n",
       "      <th>Unnamed: 0</th>\n",
       "      <th>source</th>\n",
       "      <th>author</th>\n",
       "      <th>title</th>\n",
       "      <th>description</th>\n",
       "      <th>url</th>\n",
       "      <th>urlToImage</th>\n",
       "      <th>publishedAt</th>\n",
       "      <th>content</th>\n",
       "    </tr>\n",
       "  </thead>\n",
       "  <tbody>\n",
       "    <tr>\n",
       "      <th>0</th>\n",
       "      <td>0</td>\n",
       "      <td>{'id': 'wired', 'name': 'Wired'}</td>\n",
       "      <td>Scott Gilbertson</td>\n",
       "      <td>This Cold-Storage Crypto Wallet Is a Smart Inv...</td>\n",
       "      <td>If you don't use a safe, offline storage devic...</td>\n",
       "      <td>https://www.wired.com/review/ledger-nano-x-cry...</td>\n",
       "      <td>https://media.wired.com/photos/630916d9ba2a66a...</td>\n",
       "      <td>2022-08-29T12:00:00Z</td>\n",
       "      <td>If youre serious about owning digital currenci...</td>\n",
       "    </tr>\n",
       "    <tr>\n",
       "      <th>1</th>\n",
       "      <td>1</td>\n",
       "      <td>{'id': 'the-verge', 'name': 'The Verge'}</td>\n",
       "      <td>Emma Roth</td>\n",
       "      <td>Congress presses big crypto exchanges for deta...</td>\n",
       "      <td>Congress wrote letters to Coinbase, Binance, F...</td>\n",
       "      <td>https://www.theverge.com/2022/8/31/23330623/co...</td>\n",
       "      <td>https://cdn.vox-cdn.com/thumbor/6OTL-0k-pWPknC...</td>\n",
       "      <td>2022-08-31T16:20:59Z</td>\n",
       "      <td>Pointed questions for Coinbase, Binance.US, FT...</td>\n",
       "    </tr>\n",
       "    <tr>\n",
       "      <th>2</th>\n",
       "      <td>2</td>\n",
       "      <td>{'id': 'the-verge', 'name': 'The Verge'}</td>\n",
       "      <td>James Vincent</td>\n",
       "      <td>Crypto.com laid off 260 employees — then quiet...</td>\n",
       "      <td>Cryptocurrency exchange Crypto.com is one of t...</td>\n",
       "      <td>https://www.theverge.com/2022/8/18/23309439/cr...</td>\n",
       "      <td>https://cdn.vox-cdn.com/thumbor/BGOPT8VL3A0c3v...</td>\n",
       "      <td>2022-08-18T15:09:04Z</td>\n",
       "      <td>As the market slumps, Crypto.com is trying to ...</td>\n",
       "    </tr>\n",
       "    <tr>\n",
       "      <th>3</th>\n",
       "      <td>3</td>\n",
       "      <td>{'id': 'wired', 'name': 'Wired'}</td>\n",
       "      <td>Gian M. Volpicelli</td>\n",
       "      <td>Ethereum's 'Merge' Is a Big Deal for Crypto—an...</td>\n",
       "      <td>One of the most influential cryptocurrency pro...</td>\n",
       "      <td>https://www.wired.com/story/ethereum-merge-big...</td>\n",
       "      <td>https://media.wired.com/photos/62fe63bcfd602ff...</td>\n",
       "      <td>2022-08-18T16:09:33Z</td>\n",
       "      <td>Cryptocurrencies are often criticized for bein...</td>\n",
       "    </tr>\n",
       "    <tr>\n",
       "      <th>4</th>\n",
       "      <td>4</td>\n",
       "      <td>{'id': 'reuters', 'name': 'Reuters'}</td>\n",
       "      <td>Reuters Editorial</td>\n",
       "      <td>Crypto Weekly: A mixer with your crypto cockta...</td>\n",
       "      <td>From a crackdown on crypto mixers from the U.S...</td>\n",
       "      <td>https://www.reuters.com/video/watch/idOV020923...</td>\n",
       "      <td>https://static.reuters.com/resources/r/?d=2022...</td>\n",
       "      <td>2022-08-24T00:11:13Z</td>\n",
       "      <td>Posted \\r\\nFrom a crackdown on crypto mixers f...</td>\n",
       "    </tr>\n",
       "  </tbody>\n",
       "</table>\n",
       "</div>"
      ],
      "text/plain": [
       "   Unnamed: 0                                    source              author  \\\n",
       "0           0          {'id': 'wired', 'name': 'Wired'}    Scott Gilbertson   \n",
       "1           1  {'id': 'the-verge', 'name': 'The Verge'}           Emma Roth   \n",
       "2           2  {'id': 'the-verge', 'name': 'The Verge'}       James Vincent   \n",
       "3           3          {'id': 'wired', 'name': 'Wired'}  Gian M. Volpicelli   \n",
       "4           4      {'id': 'reuters', 'name': 'Reuters'}   Reuters Editorial   \n",
       "\n",
       "                                               title  \\\n",
       "0  This Cold-Storage Crypto Wallet Is a Smart Inv...   \n",
       "1  Congress presses big crypto exchanges for deta...   \n",
       "2  Crypto.com laid off 260 employees — then quiet...   \n",
       "3  Ethereum's 'Merge' Is a Big Deal for Crypto—an...   \n",
       "4  Crypto Weekly: A mixer with your crypto cockta...   \n",
       "\n",
       "                                         description  \\\n",
       "0  If you don't use a safe, offline storage devic...   \n",
       "1  Congress wrote letters to Coinbase, Binance, F...   \n",
       "2  Cryptocurrency exchange Crypto.com is one of t...   \n",
       "3  One of the most influential cryptocurrency pro...   \n",
       "4  From a crackdown on crypto mixers from the U.S...   \n",
       "\n",
       "                                                 url  \\\n",
       "0  https://www.wired.com/review/ledger-nano-x-cry...   \n",
       "1  https://www.theverge.com/2022/8/31/23330623/co...   \n",
       "2  https://www.theverge.com/2022/8/18/23309439/cr...   \n",
       "3  https://www.wired.com/story/ethereum-merge-big...   \n",
       "4  https://www.reuters.com/video/watch/idOV020923...   \n",
       "\n",
       "                                          urlToImage           publishedAt  \\\n",
       "0  https://media.wired.com/photos/630916d9ba2a66a...  2022-08-29T12:00:00Z   \n",
       "1  https://cdn.vox-cdn.com/thumbor/6OTL-0k-pWPknC...  2022-08-31T16:20:59Z   \n",
       "2  https://cdn.vox-cdn.com/thumbor/BGOPT8VL3A0c3v...  2022-08-18T15:09:04Z   \n",
       "3  https://media.wired.com/photos/62fe63bcfd602ff...  2022-08-18T16:09:33Z   \n",
       "4  https://static.reuters.com/resources/r/?d=2022...  2022-08-24T00:11:13Z   \n",
       "\n",
       "                                             content  \n",
       "0  If youre serious about owning digital currenci...  \n",
       "1  Pointed questions for Coinbase, Binance.US, FT...  \n",
       "2  As the market slumps, Crypto.com is trying to ...  \n",
       "3  Cryptocurrencies are often criticized for bein...  \n",
       "4  Posted \\r\\nFrom a crackdown on crypto mixers f...  "
      ]
     },
     "execution_count": 9,
     "metadata": {},
     "output_type": "execute_result"
    }
   ],
   "source": [
    "news_api_df.head(5) # visualize first 5 instances of raw data"
   ]
  },
  {
   "cell_type": "code",
   "execution_count": 10,
   "metadata": {},
   "outputs": [
    {
     "data": {
      "text/plain": [
       "(100, 9)"
      ]
     },
     "execution_count": 10,
     "metadata": {},
     "output_type": "execute_result"
    }
   ],
   "source": [
    "news_api_df.shape"
   ]
  },
  {
   "cell_type": "code",
   "execution_count": 11,
   "metadata": {},
   "outputs": [
    {
     "data": {
      "text/plain": [
       "Index(['Unnamed: 0', 'source', 'author', 'title', 'description', 'url',\n",
       "       'urlToImage', 'publishedAt', 'content'],\n",
       "      dtype='object')"
      ]
     },
     "execution_count": 11,
     "metadata": {},
     "output_type": "execute_result"
    }
   ],
   "source": [
    "news_api_df.columns"
   ]
  },
  {
   "cell_type": "code",
   "execution_count": 12,
   "metadata": {},
   "outputs": [
    {
     "data": {
      "text/plain": [
       "Unnamed: 0      0\n",
       "source          0\n",
       "author         51\n",
       "title           0\n",
       "description     0\n",
       "url             0\n",
       "urlToImage      0\n",
       "publishedAt     0\n",
       "content         0\n",
       "dtype: int64"
      ]
     },
     "execution_count": 12,
     "metadata": {},
     "output_type": "execute_result"
    }
   ],
   "source": [
    "#Checking for NaN values present in data\n",
    "news_api_df.isna().sum()"
   ]
  },
  {
   "cell_type": "markdown",
   "metadata": {},
   "source": [
    "We can see that the column author has NA values. We can check for rows which have NA values and see if we can replace it with any relevant values or drop these rows."
   ]
  },
  {
   "cell_type": "code",
   "execution_count": 13,
   "metadata": {},
   "outputs": [
    {
     "data": {
      "text/html": [
       "<div>\n",
       "<style scoped>\n",
       "    .dataframe tbody tr th:only-of-type {\n",
       "        vertical-align: middle;\n",
       "    }\n",
       "\n",
       "    .dataframe tbody tr th {\n",
       "        vertical-align: top;\n",
       "    }\n",
       "\n",
       "    .dataframe thead th {\n",
       "        text-align: right;\n",
       "    }\n",
       "</style>\n",
       "<table border=\"1\" class=\"dataframe\">\n",
       "  <thead>\n",
       "    <tr style=\"text-align: right;\">\n",
       "      <th></th>\n",
       "      <th>Unnamed: 0</th>\n",
       "      <th>source</th>\n",
       "      <th>author</th>\n",
       "      <th>title</th>\n",
       "      <th>description</th>\n",
       "      <th>url</th>\n",
       "      <th>urlToImage</th>\n",
       "      <th>publishedAt</th>\n",
       "      <th>content</th>\n",
       "    </tr>\n",
       "  </thead>\n",
       "  <tbody>\n",
       "  </tbody>\n",
       "</table>\n",
       "</div>"
      ],
      "text/plain": [
       "Empty DataFrame\n",
       "Columns: [Unnamed: 0, source, author, title, description, url, urlToImage, publishedAt, content]\n",
       "Index: []"
      ]
     },
     "execution_count": 13,
     "metadata": {},
     "output_type": "execute_result"
    }
   ],
   "source": [
    "news_api_df.loc[news_api_df['author']==np.NaN]"
   ]
  }
 ],
 "metadata": {
  "kernelspec": {
   "display_name": "Python 3.9.13 ('ANLY501')",
   "language": "python",
   "name": "python3"
  },
  "language_info": {
   "codemirror_mode": {
    "name": "ipython",
    "version": 3
   },
   "file_extension": ".py",
   "mimetype": "text/x-python",
   "name": "python",
   "nbconvert_exporter": "python",
   "pygments_lexer": "ipython3",
   "version": "3.9.13"
  },
  "orig_nbformat": 4,
  "vscode": {
   "interpreter": {
    "hash": "fe3850336ae7e16fe4521d887235e5784c5e3aaefe260f8a320996f0c8242fd1"
   }
  }
 },
 "nbformat": 4,
 "nbformat_minor": 2
}
