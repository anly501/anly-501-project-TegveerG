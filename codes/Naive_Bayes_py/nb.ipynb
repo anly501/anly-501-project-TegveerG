{
 "cells": [
  {
   "cell_type": "markdown",
   "metadata": {},
   "source": [
    "# Multinomial Naive Bayes in Python using Text Data from NewsAPI and Twitter API"
   ]
  },
  {
   "cell_type": "markdown",
   "metadata": {},
   "source": [
    "##### To make the task more interesting, I will also feature engineer a Sentiment Score for each text content, tweets and news, to create 2 labels: Positive and Negative. "
   ]
  },
  {
   "cell_type": "code",
   "execution_count": 387,
   "metadata": {},
   "outputs": [],
   "source": [
    "import pandas as pd\n",
    "import numpy as np\n",
    "import nltk\n",
    "\n",
    "tweets_clean = pd.read_csv(\"../../data/Clean Data/Clean_TokeLemm_Crypto_Tweets.csv\", index_col=[0])\n",
    "news_clean = pd.read_csv(\"../../data/Clean Data/Clean_TokeLemm_News.csv\", index_col=[0])"
   ]
  },
  {
   "cell_type": "code",
   "execution_count": 388,
   "metadata": {},
   "outputs": [
    {
     "data": {
      "text/html": [
       "<div>\n",
       "<style scoped>\n",
       "    .dataframe tbody tr th:only-of-type {\n",
       "        vertical-align: middle;\n",
       "    }\n",
       "\n",
       "    .dataframe tbody tr th {\n",
       "        vertical-align: top;\n",
       "    }\n",
       "\n",
       "    .dataframe thead th {\n",
       "        text-align: right;\n",
       "    }\n",
       "</style>\n",
       "<table border=\"1\" class=\"dataframe\">\n",
       "  <thead>\n",
       "    <tr style=\"text-align: right;\">\n",
       "      <th></th>\n",
       "      <th>Tokenized_Text</th>\n",
       "      <th>Tweets_Clean</th>\n",
       "      <th>Tweet_Lemmatized</th>\n",
       "    </tr>\n",
       "  </thead>\n",
       "  <tbody>\n",
       "    <tr>\n",
       "      <th>0</th>\n",
       "      <td>['at', '#', 'metalpay', 'we', 'do', 'not', 'ce...</td>\n",
       "      <td>['metalpay', 'censor', 'thought', 'crime', '.']</td>\n",
       "      <td>['metalpay', 'censor', 'thought', 'crime', '.']</td>\n",
       "    </tr>\n",
       "    <tr>\n",
       "      <th>1</th>\n",
       "      <td>['also', 'you', 'can', 'bank', 'with', 'crypto...</td>\n",
       "      <td>['also', 'bank', 'crypto', 'get', 'great', 'cu...</td>\n",
       "      <td>['also', 'bank', 'crypto', 'get', 'great', 'cu...</td>\n",
       "    </tr>\n",
       "    <tr>\n",
       "      <th>2</th>\n",
       "      <td>[\"it's…\", '.', '»', 'binance', 'to', 'train', ...</td>\n",
       "      <td>[\"it's…\", '.', 'binance', 'train', 'law', 'enf...</td>\n",
       "      <td>[\"it's…\", '.', 'binance', 'train', 'law', 'enf...</td>\n",
       "    </tr>\n",
       "    <tr>\n",
       "      <th>3</th>\n",
       "      <td>['.rt', 'i', 'haven', '’', 't', 'heard', 'one'...</td>\n",
       "      <td>['’', 'heard', 'one', 'single', 'democrat', 'a...</td>\n",
       "      <td>['’', 'heard', 'one', 'single', 'democrat', 'a...</td>\n",
       "    </tr>\n",
       "    <tr>\n",
       "      <th>4</th>\n",
       "      <td>['also', 'you', 'can', 'bank', 'with', 'crypto...</td>\n",
       "      <td>['also', 'bank', 'crypto', 'get', 'great', 'cu...</td>\n",
       "      <td>['also', 'bank', 'crypto', 'get', 'great', 'cu...</td>\n",
       "    </tr>\n",
       "  </tbody>\n",
       "</table>\n",
       "</div>"
      ],
      "text/plain": [
       "                                      Tokenized_Text  \\\n",
       "0  ['at', '#', 'metalpay', 'we', 'do', 'not', 'ce...   \n",
       "1  ['also', 'you', 'can', 'bank', 'with', 'crypto...   \n",
       "2  [\"it's…\", '.', '»', 'binance', 'to', 'train', ...   \n",
       "3  ['.rt', 'i', 'haven', '’', 't', 'heard', 'one'...   \n",
       "4  ['also', 'you', 'can', 'bank', 'with', 'crypto...   \n",
       "\n",
       "                                        Tweets_Clean  \\\n",
       "0    ['metalpay', 'censor', 'thought', 'crime', '.']   \n",
       "1  ['also', 'bank', 'crypto', 'get', 'great', 'cu...   \n",
       "2  [\"it's…\", '.', 'binance', 'train', 'law', 'enf...   \n",
       "3  ['’', 'heard', 'one', 'single', 'democrat', 'a...   \n",
       "4  ['also', 'bank', 'crypto', 'get', 'great', 'cu...   \n",
       "\n",
       "                                    Tweet_Lemmatized  \n",
       "0    ['metalpay', 'censor', 'thought', 'crime', '.']  \n",
       "1  ['also', 'bank', 'crypto', 'get', 'great', 'cu...  \n",
       "2  [\"it's…\", '.', 'binance', 'train', 'law', 'enf...  \n",
       "3  ['’', 'heard', 'one', 'single', 'democrat', 'a...  \n",
       "4  ['also', 'bank', 'crypto', 'get', 'great', 'cu...  "
      ]
     },
     "execution_count": 388,
     "metadata": {},
     "output_type": "execute_result"
    }
   ],
   "source": [
    "tweets_clean.head()"
   ]
  },
  {
   "cell_type": "code",
   "execution_count": 389,
   "metadata": {},
   "outputs": [
    {
     "data": {
      "text/plain": [
       "(288, 3)"
      ]
     },
     "execution_count": 389,
     "metadata": {},
     "output_type": "execute_result"
    }
   ],
   "source": [
    "tweets_clean.shape"
   ]
  },
  {
   "cell_type": "code",
   "execution_count": 390,
   "metadata": {},
   "outputs": [
    {
     "data": {
      "text/html": [
       "<div>\n",
       "<style scoped>\n",
       "    .dataframe tbody tr th:only-of-type {\n",
       "        vertical-align: middle;\n",
       "    }\n",
       "\n",
       "    .dataframe tbody tr th {\n",
       "        vertical-align: top;\n",
       "    }\n",
       "\n",
       "    .dataframe thead th {\n",
       "        text-align: right;\n",
       "    }\n",
       "</style>\n",
       "<table border=\"1\" class=\"dataframe\">\n",
       "  <thead>\n",
       "    <tr style=\"text-align: right;\">\n",
       "      <th></th>\n",
       "      <th>Tokenized_Text</th>\n",
       "      <th>Content_Clean</th>\n",
       "      <th>Content_Lemmatized</th>\n",
       "    </tr>\n",
       "  </thead>\n",
       "  <tbody>\n",
       "    <tr>\n",
       "      <th>0</th>\n",
       "      <td>['if', 'youre', 'serious', 'about', 'owning', ...</td>\n",
       "      <td>['youre', 'serious', 'owning', 'digital', 'cur...</td>\n",
       "      <td>['youre', 'serious', 'owning', 'digital', 'cur...</td>\n",
       "    </tr>\n",
       "    <tr>\n",
       "      <th>1</th>\n",
       "      <td>['just', 'as', 'the', 'wallet', 'in', 'your', ...</td>\n",
       "      <td>['wallet', 'pocket', 'stores', 'physical', 'cu...</td>\n",
       "      <td>['wallet', 'pocket', 'store', 'physical', 'cur...</td>\n",
       "    </tr>\n",
       "    <tr>\n",
       "      <th>2</th>\n",
       "      <td>['it', 'keeps', 'it', 'saf…', '[', '+3718', 'c...</td>\n",
       "      <td>['keeps', 'saf…', '[', '+3718', 'chars', ']', ...</td>\n",
       "      <td>['keep', 'saf…', '[', '+3718', 'char', ']', '....</td>\n",
       "    </tr>\n",
       "    <tr>\n",
       "      <th>3</th>\n",
       "      <td>['olivia', 'zollino', 'report…', '[', '+1', 'c...</td>\n",
       "      <td>['olivia', 'zollino', 'report…', '[', '+1', 'c...</td>\n",
       "      <td>['olivia', 'zollino', 'report…', '[', '+1', 'c...</td>\n",
       "    </tr>\n",
       "    <tr>\n",
       "      <th>4</th>\n",
       "      <td>['julian', 'satterthwaite', 'reports', '..', '...</td>\n",
       "      <td>['julian', 'satterthwaite', 'reports', '..', '...</td>\n",
       "      <td>['julian', 'satterthwaite', 'report', '..', 'p...</td>\n",
       "    </tr>\n",
       "  </tbody>\n",
       "</table>\n",
       "</div>"
      ],
      "text/plain": [
       "                                      Tokenized_Text  \\\n",
       "0  ['if', 'youre', 'serious', 'about', 'owning', ...   \n",
       "1  ['just', 'as', 'the', 'wallet', 'in', 'your', ...   \n",
       "2  ['it', 'keeps', 'it', 'saf…', '[', '+3718', 'c...   \n",
       "3  ['olivia', 'zollino', 'report…', '[', '+1', 'c...   \n",
       "4  ['julian', 'satterthwaite', 'reports', '..', '...   \n",
       "\n",
       "                                       Content_Clean  \\\n",
       "0  ['youre', 'serious', 'owning', 'digital', 'cur...   \n",
       "1  ['wallet', 'pocket', 'stores', 'physical', 'cu...   \n",
       "2  ['keeps', 'saf…', '[', '+3718', 'chars', ']', ...   \n",
       "3  ['olivia', 'zollino', 'report…', '[', '+1', 'c...   \n",
       "4  ['julian', 'satterthwaite', 'reports', '..', '...   \n",
       "\n",
       "                                  Content_Lemmatized  \n",
       "0  ['youre', 'serious', 'owning', 'digital', 'cur...  \n",
       "1  ['wallet', 'pocket', 'store', 'physical', 'cur...  \n",
       "2  ['keep', 'saf…', '[', '+3718', 'char', ']', '....  \n",
       "3  ['olivia', 'zollino', 'report…', '[', '+1', 'c...  \n",
       "4  ['julian', 'satterthwaite', 'report', '..', 'p...  "
      ]
     },
     "execution_count": 390,
     "metadata": {},
     "output_type": "execute_result"
    }
   ],
   "source": [
    "news_clean.head()"
   ]
  },
  {
   "cell_type": "code",
   "execution_count": 391,
   "metadata": {},
   "outputs": [
    {
     "data": {
      "text/plain": [
       "(92, 3)"
      ]
     },
     "execution_count": 391,
     "metadata": {},
     "output_type": "execute_result"
    }
   ],
   "source": [
    "news_clean.shape"
   ]
  },
  {
   "cell_type": "markdown",
   "metadata": {},
   "source": [
    "# Twitter Sentiment Analysis for Feature Engineering "
   ]
  },
  {
   "cell_type": "code",
   "execution_count": 392,
   "metadata": {},
   "outputs": [
    {
     "data": {
      "text/html": [
       "<div>\n",
       "<style scoped>\n",
       "    .dataframe tbody tr th:only-of-type {\n",
       "        vertical-align: middle;\n",
       "    }\n",
       "\n",
       "    .dataframe tbody tr th {\n",
       "        vertical-align: top;\n",
       "    }\n",
       "\n",
       "    .dataframe thead th {\n",
       "        text-align: right;\n",
       "    }\n",
       "</style>\n",
       "<table border=\"1\" class=\"dataframe\">\n",
       "  <thead>\n",
       "    <tr style=\"text-align: right;\">\n",
       "      <th></th>\n",
       "      <th>Tokenized_Text</th>\n",
       "      <th>Tweets_Clean</th>\n",
       "      <th>Tweet_Lemmatized</th>\n",
       "      <th>Tweet_Lemmatized_Sentiment_Analysis</th>\n",
       "      <th>rating</th>\n",
       "    </tr>\n",
       "  </thead>\n",
       "  <tbody>\n",
       "    <tr>\n",
       "      <th>0</th>\n",
       "      <td>['at', '#', 'metalpay', 'we', 'do', 'not', 'ce...</td>\n",
       "      <td>['metalpay', 'censor', 'thought', 'crime', '.']</td>\n",
       "      <td>['metalpay', 'censor', 'thought', 'crime', '.']</td>\n",
       "      <td>metalpay censor thought crime .</td>\n",
       "      <td>-0.7579</td>\n",
       "    </tr>\n",
       "    <tr>\n",
       "      <th>1</th>\n",
       "      <td>['also', 'you', 'can', 'bank', 'with', 'crypto...</td>\n",
       "      <td>['also', 'bank', 'crypto', 'get', 'great', 'cu...</td>\n",
       "      <td>['also', 'bank', 'crypto', 'get', 'great', 'cu...</td>\n",
       "      <td>also bank crypto get great customer service .</td>\n",
       "      <td>0.6249</td>\n",
       "    </tr>\n",
       "    <tr>\n",
       "      <th>2</th>\n",
       "      <td>[\"it's…\", '.', '»', 'binance', 'to', 'train', ...</td>\n",
       "      <td>[\"it's…\", '.', 'binance', 'train', 'law', 'enf...</td>\n",
       "      <td>[\"it's…\", '.', 'binance', 'train', 'law', 'enf...</td>\n",
       "      <td>\"its…\" . binance train law enforcement stop cr...</td>\n",
       "      <td>-0.8360</td>\n",
       "    </tr>\n",
       "    <tr>\n",
       "      <th>3</th>\n",
       "      <td>['.rt', 'i', 'haven', '’', 't', 'heard', 'one'...</td>\n",
       "      <td>['’', 'heard', 'one', 'single', 'democrat', 'a...</td>\n",
       "      <td>['’', 'heard', 'one', 'single', 'democrat', 'a...</td>\n",
       "      <td>’ heard one single democrat acknowledge addres...</td>\n",
       "      <td>-0.8750</td>\n",
       "    </tr>\n",
       "    <tr>\n",
       "      <th>4</th>\n",
       "      <td>['also', 'you', 'can', 'bank', 'with', 'crypto...</td>\n",
       "      <td>['also', 'bank', 'crypto', 'get', 'great', 'cu...</td>\n",
       "      <td>['also', 'bank', 'crypto', 'get', 'great', 'cu...</td>\n",
       "      <td>also bank crypto get great customer service .</td>\n",
       "      <td>0.6249</td>\n",
       "    </tr>\n",
       "  </tbody>\n",
       "</table>\n",
       "</div>"
      ],
      "text/plain": [
       "                                      Tokenized_Text  \\\n",
       "0  ['at', '#', 'metalpay', 'we', 'do', 'not', 'ce...   \n",
       "1  ['also', 'you', 'can', 'bank', 'with', 'crypto...   \n",
       "2  [\"it's…\", '.', '»', 'binance', 'to', 'train', ...   \n",
       "3  ['.rt', 'i', 'haven', '’', 't', 'heard', 'one'...   \n",
       "4  ['also', 'you', 'can', 'bank', 'with', 'crypto...   \n",
       "\n",
       "                                        Tweets_Clean  \\\n",
       "0    ['metalpay', 'censor', 'thought', 'crime', '.']   \n",
       "1  ['also', 'bank', 'crypto', 'get', 'great', 'cu...   \n",
       "2  [\"it's…\", '.', 'binance', 'train', 'law', 'enf...   \n",
       "3  ['’', 'heard', 'one', 'single', 'democrat', 'a...   \n",
       "4  ['also', 'bank', 'crypto', 'get', 'great', 'cu...   \n",
       "\n",
       "                                    Tweet_Lemmatized  \\\n",
       "0    ['metalpay', 'censor', 'thought', 'crime', '.']   \n",
       "1  ['also', 'bank', 'crypto', 'get', 'great', 'cu...   \n",
       "2  [\"it's…\", '.', 'binance', 'train', 'law', 'enf...   \n",
       "3  ['’', 'heard', 'one', 'single', 'democrat', 'a...   \n",
       "4  ['also', 'bank', 'crypto', 'get', 'great', 'cu...   \n",
       "\n",
       "                 Tweet_Lemmatized_Sentiment_Analysis  rating  \n",
       "0                    metalpay censor thought crime . -0.7579  \n",
       "1      also bank crypto get great customer service .  0.6249  \n",
       "2  \"its…\" . binance train law enforcement stop cr... -0.8360  \n",
       "3  ’ heard one single democrat acknowledge addres... -0.8750  \n",
       "4      also bank crypto get great customer service .  0.6249  "
      ]
     },
     "execution_count": 392,
     "metadata": {},
     "output_type": "execute_result"
    }
   ],
   "source": [
    "from nltk.sentiment.vader import SentimentIntensityAnalyzer\n",
    "\n",
    "lem=[]\n",
    "for i in tweets_clean['Tweet_Lemmatized']:\n",
    "  s = \"\".join(x for x in i)\n",
    "  n=s.replace(\"[\",\"\").replace(\"]\",\"\").replace(\",\",\"\").replace(\"'\", \"\")\n",
    "  lem.append(n) # encode function throws error due to lemmatized column being list type, \n",
    "                #so we remove list brackets from each observation and convert it to a single string\n",
    "\n",
    "tweets_clean['Tweet_Lemmatized_Sentiment_Analysis']=lem\n",
    "\n",
    "analyzer = SentimentIntensityAnalyzer()\n",
    "tweets_clean['rating'] = tweets_clean['Tweet_Lemmatized_Sentiment_Analysis'].apply(analyzer.polarity_scores)\n",
    "\n",
    "def just_compound(x):\n",
    "    return x['compound']\n",
    "\n",
    "tweets_clean['rating'] = tweets_clean['rating'].apply(lambda x: just_compound(x))\n",
    "\n",
    "avg_sentiment_tweets = tweets_clean['rating'].mean()\n",
    "avg_sentiment_tweets # helps to assess class imbalance -> if avg sentiment is closer to 0, \n",
    "                     #then better balance, can also check with value counts\n",
    "\n",
    "tweets_clean.head()"
   ]
  },
  {
   "cell_type": "code",
   "execution_count": 393,
   "metadata": {},
   "outputs": [
    {
     "data": {
      "text/plain": [
       "-0.38656180555555525"
      ]
     },
     "execution_count": 393,
     "metadata": {},
     "output_type": "execute_result"
    }
   ],
   "source": [
    "avg_sentiment_tweets"
   ]
  },
  {
   "cell_type": "markdown",
   "metadata": {},
   "source": [
    "### Average Sentiment of All Tweets is -0.39 (rounded to 2 dp), which implies there are more negative words associated with crypto attacks in tweets. The value_counts() below also confirms this as we have 177 negative tweets and 111 positive tweets. To conduct Naive Bayes fairly, I would typically want a more balanced class of labels, let's see what the overall sentiment is for news articles and hope it is relatively more positive to gain balanced classes"
   ]
  },
  {
   "cell_type": "code",
   "execution_count": 394,
   "metadata": {},
   "outputs": [
    {
     "data": {
      "text/plain": [
       "(288, 5)"
      ]
     },
     "execution_count": 394,
     "metadata": {},
     "output_type": "execute_result"
    }
   ],
   "source": [
    "tweets_clean.shape"
   ]
  },
  {
   "cell_type": "code",
   "execution_count": 395,
   "metadata": {},
   "outputs": [],
   "source": [
    "tweets_clean['label'] = tweets_clean['rating'].apply(lambda x: \"Negative\" if x<0 else \"Positive\")"
   ]
  },
  {
   "cell_type": "code",
   "execution_count": 396,
   "metadata": {},
   "outputs": [
    {
     "data": {
      "text/plain": [
       "Negative    177\n",
       "Positive    111\n",
       "Name: label, dtype: int64"
      ]
     },
     "execution_count": 396,
     "metadata": {},
     "output_type": "execute_result"
    }
   ],
   "source": [
    "tweets_clean['label'].value_counts()"
   ]
  },
  {
   "cell_type": "code",
   "execution_count": 397,
   "metadata": {},
   "outputs": [],
   "source": [
    "tweets_clean.drop(['Tokenized_Text', 'Tweets_Clean', 'Tweet_Lemmatized', 'rating'], axis=1, inplace=True)\n",
    "tweets_clean.rename(columns={\"Tweet_Lemmatized_Sentiment_Analysis\": \"Content_Lemmatized_Sentiment_Analysis\"}, inplace=True)\n"
   ]
  },
  {
   "cell_type": "code",
   "execution_count": 398,
   "metadata": {},
   "outputs": [
    {
     "data": {
      "text/html": [
       "<div>\n",
       "<style scoped>\n",
       "    .dataframe tbody tr th:only-of-type {\n",
       "        vertical-align: middle;\n",
       "    }\n",
       "\n",
       "    .dataframe tbody tr th {\n",
       "        vertical-align: top;\n",
       "    }\n",
       "\n",
       "    .dataframe thead th {\n",
       "        text-align: right;\n",
       "    }\n",
       "</style>\n",
       "<table border=\"1\" class=\"dataframe\">\n",
       "  <thead>\n",
       "    <tr style=\"text-align: right;\">\n",
       "      <th></th>\n",
       "      <th>Content_Lemmatized_Sentiment_Analysis</th>\n",
       "      <th>label</th>\n",
       "    </tr>\n",
       "  </thead>\n",
       "  <tbody>\n",
       "    <tr>\n",
       "      <th>0</th>\n",
       "      <td>metalpay censor thought crime .</td>\n",
       "      <td>Negative</td>\n",
       "    </tr>\n",
       "    <tr>\n",
       "      <th>1</th>\n",
       "      <td>also bank crypto get great customer service .</td>\n",
       "      <td>Positive</td>\n",
       "    </tr>\n",
       "    <tr>\n",
       "      <th>2</th>\n",
       "      <td>\"its…\" . binance train law enforcement stop cr...</td>\n",
       "      <td>Negative</td>\n",
       "    </tr>\n",
       "    <tr>\n",
       "      <th>3</th>\n",
       "      <td>’ heard one single democrat acknowledge addres...</td>\n",
       "      <td>Negative</td>\n",
       "    </tr>\n",
       "    <tr>\n",
       "      <th>4</th>\n",
       "      <td>also bank crypto get great customer service .</td>\n",
       "      <td>Positive</td>\n",
       "    </tr>\n",
       "    <tr>\n",
       "      <th>...</th>\n",
       "      <td>...</td>\n",
       "      <td>...</td>\n",
       "    </tr>\n",
       "    <tr>\n",
       "      <th>283</th>\n",
       "      <td>apparently also happens crime gang  form tortu...</td>\n",
       "      <td>Negative</td>\n",
       "    </tr>\n",
       "    <tr>\n",
       "      <th>284</th>\n",
       "      <td>uk proposed online safety bill economic crime ...</td>\n",
       "      <td>Negative</td>\n",
       "    </tr>\n",
       "    <tr>\n",
       "      <th>285</th>\n",
       "      <td>need mo betta law !</td>\n",
       "      <td>Positive</td>\n",
       "    </tr>\n",
       "    <tr>\n",
       "      <th>286</th>\n",
       "      <td>one make crime disagree democrat .</td>\n",
       "      <td>Negative</td>\n",
       "    </tr>\n",
       "    <tr>\n",
       "      <th>287</th>\n",
       "      <td>one creates `` dissension camp \"\" : binance sp...</td>\n",
       "      <td>Negative</td>\n",
       "    </tr>\n",
       "  </tbody>\n",
       "</table>\n",
       "<p>288 rows × 2 columns</p>\n",
       "</div>"
      ],
      "text/plain": [
       "                 Content_Lemmatized_Sentiment_Analysis     label\n",
       "0                      metalpay censor thought crime .  Negative\n",
       "1        also bank crypto get great customer service .  Positive\n",
       "2    \"its…\" . binance train law enforcement stop cr...  Negative\n",
       "3    ’ heard one single democrat acknowledge addres...  Negative\n",
       "4        also bank crypto get great customer service .  Positive\n",
       "..                                                 ...       ...\n",
       "283  apparently also happens crime gang  form tortu...  Negative\n",
       "284  uk proposed online safety bill economic crime ...  Negative\n",
       "285                                need mo betta law !  Positive\n",
       "286                 one make crime disagree democrat .  Negative\n",
       "287  one creates `` dissension camp \"\" : binance sp...  Negative\n",
       "\n",
       "[288 rows x 2 columns]"
      ]
     },
     "execution_count": 398,
     "metadata": {},
     "output_type": "execute_result"
    }
   ],
   "source": [
    "tweets_clean"
   ]
  },
  {
   "cell_type": "markdown",
   "metadata": {},
   "source": [
    "# News Sentiment Analysis for Feature Engineering "
   ]
  },
  {
   "cell_type": "code",
   "execution_count": 399,
   "metadata": {},
   "outputs": [
    {
     "data": {
      "text/html": [
       "<div>\n",
       "<style scoped>\n",
       "    .dataframe tbody tr th:only-of-type {\n",
       "        vertical-align: middle;\n",
       "    }\n",
       "\n",
       "    .dataframe tbody tr th {\n",
       "        vertical-align: top;\n",
       "    }\n",
       "\n",
       "    .dataframe thead th {\n",
       "        text-align: right;\n",
       "    }\n",
       "</style>\n",
       "<table border=\"1\" class=\"dataframe\">\n",
       "  <thead>\n",
       "    <tr style=\"text-align: right;\">\n",
       "      <th></th>\n",
       "      <th>Tokenized_Text</th>\n",
       "      <th>Content_Clean</th>\n",
       "      <th>Content_Lemmatized</th>\n",
       "      <th>Content_Lemmatized_Sentiment_Analysis</th>\n",
       "      <th>rating</th>\n",
       "    </tr>\n",
       "  </thead>\n",
       "  <tbody>\n",
       "    <tr>\n",
       "      <th>0</th>\n",
       "      <td>['if', 'youre', 'serious', 'about', 'owning', ...</td>\n",
       "      <td>['youre', 'serious', 'owning', 'digital', 'cur...</td>\n",
       "      <td>['youre', 'serious', 'owning', 'digital', 'cur...</td>\n",
       "      <td>youre serious owning digital currency  need ha...</td>\n",
       "      <td>-0.0772</td>\n",
       "    </tr>\n",
       "    <tr>\n",
       "      <th>1</th>\n",
       "      <td>['just', 'as', 'the', 'wallet', 'in', 'your', ...</td>\n",
       "      <td>['wallet', 'pocket', 'stores', 'physical', 'cu...</td>\n",
       "      <td>['wallet', 'pocket', 'store', 'physical', 'cur...</td>\n",
       "      <td>wallet pocket store physical currency  crypto ...</td>\n",
       "      <td>0.0000</td>\n",
       "    </tr>\n",
       "    <tr>\n",
       "      <th>2</th>\n",
       "      <td>['it', 'keeps', 'it', 'saf…', '[', '+3718', 'c...</td>\n",
       "      <td>['keeps', 'saf…', '[', '+3718', 'chars', ']', ...</td>\n",
       "      <td>['keep', 'saf…', '[', '+3718', 'char', ']', '....</td>\n",
       "      <td>keep saf…  +3718 char  .pointed question coinb...</td>\n",
       "      <td>-0.9460</td>\n",
       "    </tr>\n",
       "    <tr>\n",
       "      <th>3</th>\n",
       "      <td>['olivia', 'zollino', 'report…', '[', '+1', 'c...</td>\n",
       "      <td>['olivia', 'zollino', 'report…', '[', '+1', 'c...</td>\n",
       "      <td>['olivia', 'zollino', 'report…', '[', '+1', 'c...</td>\n",
       "      <td>olivia zollino report…  +1 char  .posted ether...</td>\n",
       "      <td>0.2732</td>\n",
       "    </tr>\n",
       "    <tr>\n",
       "      <th>4</th>\n",
       "      <td>['julian', 'satterthwaite', 'reports', '..', '...</td>\n",
       "      <td>['julian', 'satterthwaite', 'reports', '..', '...</td>\n",
       "      <td>['julian', 'satterthwaite', 'report', '..', 'p...</td>\n",
       "      <td>julian satterthwaite report .. posted long-awa...</td>\n",
       "      <td>-0.4019</td>\n",
       "    </tr>\n",
       "  </tbody>\n",
       "</table>\n",
       "</div>"
      ],
      "text/plain": [
       "                                      Tokenized_Text  \\\n",
       "0  ['if', 'youre', 'serious', 'about', 'owning', ...   \n",
       "1  ['just', 'as', 'the', 'wallet', 'in', 'your', ...   \n",
       "2  ['it', 'keeps', 'it', 'saf…', '[', '+3718', 'c...   \n",
       "3  ['olivia', 'zollino', 'report…', '[', '+1', 'c...   \n",
       "4  ['julian', 'satterthwaite', 'reports', '..', '...   \n",
       "\n",
       "                                       Content_Clean  \\\n",
       "0  ['youre', 'serious', 'owning', 'digital', 'cur...   \n",
       "1  ['wallet', 'pocket', 'stores', 'physical', 'cu...   \n",
       "2  ['keeps', 'saf…', '[', '+3718', 'chars', ']', ...   \n",
       "3  ['olivia', 'zollino', 'report…', '[', '+1', 'c...   \n",
       "4  ['julian', 'satterthwaite', 'reports', '..', '...   \n",
       "\n",
       "                                  Content_Lemmatized  \\\n",
       "0  ['youre', 'serious', 'owning', 'digital', 'cur...   \n",
       "1  ['wallet', 'pocket', 'store', 'physical', 'cur...   \n",
       "2  ['keep', 'saf…', '[', '+3718', 'char', ']', '....   \n",
       "3  ['olivia', 'zollino', 'report…', '[', '+1', 'c...   \n",
       "4  ['julian', 'satterthwaite', 'report', '..', 'p...   \n",
       "\n",
       "               Content_Lemmatized_Sentiment_Analysis  rating  \n",
       "0  youre serious owning digital currency  need ha... -0.0772  \n",
       "1  wallet pocket store physical currency  crypto ...  0.0000  \n",
       "2  keep saf…  +3718 char  .pointed question coinb... -0.9460  \n",
       "3  olivia zollino report…  +1 char  .posted ether...  0.2732  \n",
       "4  julian satterthwaite report .. posted long-awa... -0.4019  "
      ]
     },
     "execution_count": 399,
     "metadata": {},
     "output_type": "execute_result"
    }
   ],
   "source": [
    "from nltk.sentiment.vader import SentimentIntensityAnalyzer\n",
    "\n",
    "lem=[]\n",
    "for i in news_clean['Content_Lemmatized']:\n",
    "  s = \"\".join(x for x in i)\n",
    "  n=s.replace(\"[\",\"\").replace(\"]\",\"\").replace(\"'\",\"\").replace(\",\",\"\")\n",
    "  lem.append(n) # encode function throws error due to lemmatized column being list type, so we remove list brackets from each observation and convert it to a single string\n",
    "\n",
    "news_clean['Content_Lemmatized_Sentiment_Analysis']=lem\n",
    "\n",
    "analyzer = SentimentIntensityAnalyzer()\n",
    "news_clean['rating'] = news_clean['Content_Lemmatized_Sentiment_Analysis'].apply(analyzer.polarity_scores)\n",
    "\n",
    "def just_compound(x):\n",
    "    return x['compound']\n",
    "\n",
    "news_clean['rating'] = news_clean['rating'].apply(lambda x: just_compound(x))\n",
    "\n",
    "avg_sentiment_news = news_clean['rating'].mean()\n",
    "avg_sentiment_news # helps to assess class imbalance -> if avg sentiment is closer to 0, then better balance, can also check with value counts\n",
    "\n",
    "news_clean.head()"
   ]
  },
  {
   "cell_type": "code",
   "execution_count": 400,
   "metadata": {},
   "outputs": [],
   "source": [
    "news_clean['label'] = news_clean['rating'].apply(lambda x: \"Negative\" if x<0 else \"Positive\")"
   ]
  },
  {
   "cell_type": "code",
   "execution_count": 401,
   "metadata": {},
   "outputs": [
    {
     "data": {
      "text/plain": [
       "0.1337358695652174"
      ]
     },
     "execution_count": 401,
     "metadata": {},
     "output_type": "execute_result"
    }
   ],
   "source": [
    "avg_sentiment_news"
   ]
  },
  {
   "cell_type": "code",
   "execution_count": 402,
   "metadata": {},
   "outputs": [
    {
     "data": {
      "text/plain": [
       "Positive    64\n",
       "Negative    28\n",
       "Name: label, dtype: int64"
      ]
     },
     "execution_count": 402,
     "metadata": {},
     "output_type": "execute_result"
    }
   ],
   "source": [
    "news_clean['label'].value_counts()"
   ]
  },
  {
   "cell_type": "markdown",
   "metadata": {},
   "source": [
    "### As mentioned in the tweets section, in the news section we obtain a more positive overall sentiment. This will help balance our target variable as we will combine the tweets and news articles into 1 dataframe for Naive Bayes to predict either Positive or Negative Sentiment.  "
   ]
  },
  {
   "cell_type": "code",
   "execution_count": 403,
   "metadata": {},
   "outputs": [
    {
     "data": {
      "text/plain": [
       "(92, 6)"
      ]
     },
     "execution_count": 403,
     "metadata": {},
     "output_type": "execute_result"
    }
   ],
   "source": [
    "news_clean.shape"
   ]
  },
  {
   "cell_type": "code",
   "execution_count": 404,
   "metadata": {},
   "outputs": [
    {
     "name": "stderr",
     "output_type": "stream",
     "text": [
      "/var/folders/r6/q0qh39ts70582wth4g1dhjhm0000gn/T/ipykernel_39061/3692903119.py:3: FutureWarning: The frame.append method is deprecated and will be removed from pandas in a future version. Use pandas.concat instead.\n",
      "  tweets_news_merged = news_clean.append(tweets_clean, ignore_index=True)\n"
     ]
    },
    {
     "data": {
      "text/plain": [
       "(380, 2)"
      ]
     },
     "execution_count": 404,
     "metadata": {},
     "output_type": "execute_result"
    }
   ],
   "source": [
    "news_clean.drop(['Tokenized_Text', 'Content_Clean', 'Content_Lemmatized', 'rating'], axis=1, inplace=True)\n",
    "\n",
    "tweets_news_merged = news_clean.append(tweets_clean, ignore_index=True)\n",
    "\n",
    "tweets_news_merged.shape"
   ]
  },
  {
   "cell_type": "code",
   "execution_count": 405,
   "metadata": {},
   "outputs": [
    {
     "data": {
      "text/html": [
       "<div>\n",
       "<style scoped>\n",
       "    .dataframe tbody tr th:only-of-type {\n",
       "        vertical-align: middle;\n",
       "    }\n",
       "\n",
       "    .dataframe tbody tr th {\n",
       "        vertical-align: top;\n",
       "    }\n",
       "\n",
       "    .dataframe thead th {\n",
       "        text-align: right;\n",
       "    }\n",
       "</style>\n",
       "<table border=\"1\" class=\"dataframe\">\n",
       "  <thead>\n",
       "    <tr style=\"text-align: right;\">\n",
       "      <th></th>\n",
       "      <th>Content_Lemmatized_Sentiment_Analysis</th>\n",
       "      <th>label</th>\n",
       "    </tr>\n",
       "  </thead>\n",
       "  <tbody>\n",
       "    <tr>\n",
       "      <th>0</th>\n",
       "      <td>youre serious owning digital currency  need ha...</td>\n",
       "      <td>Negative</td>\n",
       "    </tr>\n",
       "    <tr>\n",
       "      <th>1</th>\n",
       "      <td>wallet pocket store physical currency  crypto ...</td>\n",
       "      <td>Positive</td>\n",
       "    </tr>\n",
       "    <tr>\n",
       "      <th>2</th>\n",
       "      <td>keep saf…  +3718 char  .pointed question coinb...</td>\n",
       "      <td>Negative</td>\n",
       "    </tr>\n",
       "    <tr>\n",
       "      <th>3</th>\n",
       "      <td>olivia zollino report…  +1 char  .posted ether...</td>\n",
       "      <td>Positive</td>\n",
       "    </tr>\n",
       "    <tr>\n",
       "      <th>4</th>\n",
       "      <td>julian satterthwaite report .. posted long-awa...</td>\n",
       "      <td>Negative</td>\n",
       "    </tr>\n",
       "  </tbody>\n",
       "</table>\n",
       "</div>"
      ],
      "text/plain": [
       "               Content_Lemmatized_Sentiment_Analysis     label\n",
       "0  youre serious owning digital currency  need ha...  Negative\n",
       "1  wallet pocket store physical currency  crypto ...  Positive\n",
       "2  keep saf…  +3718 char  .pointed question coinb...  Negative\n",
       "3  olivia zollino report…  +1 char  .posted ether...  Positive\n",
       "4  julian satterthwaite report .. posted long-awa...  Negative"
      ]
     },
     "execution_count": 405,
     "metadata": {},
     "output_type": "execute_result"
    }
   ],
   "source": [
    "tweets_news_merged.head()\n"
   ]
  },
  {
   "cell_type": "code",
   "execution_count": 406,
   "metadata": {},
   "outputs": [
    {
     "data": {
      "text/plain": [
       "Negative    205\n",
       "Positive    175\n",
       "Name: label, dtype: int64"
      ]
     },
     "execution_count": 406,
     "metadata": {},
     "output_type": "execute_result"
    }
   ],
   "source": [
    "tweets_news_merged['label'].value_counts()"
   ]
  },
  {
   "cell_type": "markdown",
   "metadata": {},
   "source": [
    "## Multinomial Naive Bayes on Moderately Imbalanced Classes"
   ]
  },
  {
   "cell_type": "markdown",
   "metadata": {},
   "source": [
    "### 80-20 Train-Test Split"
   ]
  },
  {
   "cell_type": "code",
   "execution_count": 407,
   "metadata": {},
   "outputs": [
    {
     "name": "stdout",
     "output_type": "stream",
     "text": [
      "Num Rows Training dataset:  304\n",
      "Num Rows Test dataset:  76\n"
     ]
    }
   ],
   "source": [
    "from sklearn.model_selection import train_test_split\n",
    "\n",
    "X = tweets_news_merged[\"Content_Lemmatized_Sentiment_Analysis\"]\n",
    "\n",
    "y = tweets_news_merged[\"label\"]\n",
    "\n",
    "X_train, X_test, y_train, y_test = train_test_split(X, y, \n",
    "    random_state = 1,test_size=0.2\n",
    ")\n",
    "\n",
    "print(\"Num Rows Training dataset: \", X_train.shape[0])\n",
    "print(\"Num Rows Test dataset: \", X_test.shape[0])"
   ]
  },
  {
   "cell_type": "markdown",
   "metadata": {},
   "source": [
    "### Using Count Vectorizer to convert text data into numeric data"
   ]
  },
  {
   "cell_type": "markdown",
   "metadata": {},
   "source": [
    "### Only Conducting Multinomial Naive Bayes Analysis on the Training Set in this Section"
   ]
  },
  {
   "cell_type": "code",
   "execution_count": 421,
   "metadata": {},
   "outputs": [],
   "source": [
    "from sklearn.feature_extraction.text import CountVectorizer\n",
    "np.random.seed(3737)\n",
    "count_vector = CountVectorizer()\n",
    "training_data = count_vector.fit_transform(X_train)"
   ]
  },
  {
   "cell_type": "code",
   "execution_count": 422,
   "metadata": {},
   "outputs": [
    {
     "data": {
      "text/plain": [
       "MultinomialNB()"
      ]
     },
     "execution_count": 422,
     "metadata": {},
     "output_type": "execute_result"
    }
   ],
   "source": [
    "from sklearn.naive_bayes import MultinomialNB\n",
    "\n",
    "naive_bayes = MultinomialNB()\n",
    "naive_bayes.fit(training_data, y_train)"
   ]
  },
  {
   "cell_type": "code",
   "execution_count": 423,
   "metadata": {},
   "outputs": [],
   "source": [
    "train_predictions = naive_bayes.predict(training_data)"
   ]
  },
  {
   "cell_type": "code",
   "execution_count": 424,
   "metadata": {},
   "outputs": [
    {
     "name": "stdout",
     "output_type": "stream",
     "text": [
      "Accuracy score for Train Predictions:  0.881578947368421\n",
      "Recall score for Train Predictions:  0.881578947368421\n",
      "Precision score for Train Predictions:  0.8814719158639305\n",
      "F1 score for Train Predictions:  0.8813703126738623\n"
     ]
    }
   ],
   "source": [
    "from sklearn.metrics import accuracy_score, recall_score, precision_score, f1_score\n",
    "\n",
    "print(\"Accuracy score for Train Predictions: \", accuracy_score(y_train, train_predictions))\n",
    "print(\"Recall score for Train Predictions: \", recall_score(y_train, train_predictions, average = 'weighted'))\n",
    "print(\"Precision score for Train Predictions: \", precision_score(y_train, train_predictions, average = 'weighted'))\n",
    "print(\"F1 score for Train Predictions: \", f1_score(y_train, train_predictions, average = 'weighted'))"
   ]
  },
  {
   "cell_type": "code",
   "execution_count": 425,
   "metadata": {},
   "outputs": [
    {
     "data": {
      "image/png": "[encoded data removed]",
      "text/plain": [
       "<Figure size 640x480 with 2 Axes>"
      ]
     },
     "metadata": {},
     "output_type": "display_data"
    }
   ],
   "source": [
    "from sklearn.metrics import ConfusionMatrixDisplay\n",
    "import matplotlib.pyplot as plt\n",
    "import seaborn as sns\n",
    "\n",
    "\n",
    "ConfusionMatrixDisplay.from_predictions(y_train,train_predictions)\n",
    "plt.title(\"Confusion Matrix for Train Data\")\n",
    "plt.grid(False)\n",
    "plt.show()"
   ]
  },
  {
   "cell_type": "markdown",
   "metadata": {},
   "source": [
    "## Conducting Multinomial Naive Bayes Analysis on the Test Set in this Section"
   ]
  },
  {
   "cell_type": "code",
   "execution_count": 413,
   "metadata": {},
   "outputs": [],
   "source": [
    "testing_data = count_vector.transform(X_test)"
   ]
  },
  {
   "cell_type": "code",
   "execution_count": 414,
   "metadata": {},
   "outputs": [],
   "source": [
    "test_predictions = naive_bayes.predict(testing_data)"
   ]
  },
  {
   "cell_type": "code",
   "execution_count": 415,
   "metadata": {},
   "outputs": [
    {
     "name": "stdout",
     "output_type": "stream",
     "text": [
      "Accuracy score for Test Predictions:  0.75\n",
      "Recall score for Test Predictions:  0.75\n",
      "Precision score for Test Predictions:  0.801923076923077\n",
      "F1 score for Test Predictions:  0.7440737489025462\n"
     ]
    }
   ],
   "source": [
    "from sklearn.metrics import accuracy_score, recall_score, precision_score, f1_score\n",
    "\n",
    "print(\"Accuracy score for Test Predictions: \", accuracy_score(y_test, test_predictions))\n",
    "print(\"Recall score for Test Predictions: \", recall_score(y_test, test_predictions, average = 'weighted'))\n",
    "print(\"Precision score for Test Predictions: \", precision_score(y_test, test_predictions, average = 'weighted'))\n",
    "print(\"F1 score for Test Predictions: \", f1_score(y_test, test_predictions, average = 'weighted'))"
   ]
  },
  {
   "cell_type": "code",
   "execution_count": 416,
   "metadata": {},
   "outputs": [
    {
     "data": {
      "image/png": "[encoded data removed]",
      "text/plain": [
       "<Figure size 640x480 with 2 Axes>"
      ]
     },
     "metadata": {},
     "output_type": "display_data"
    }
   ],
   "source": [
    "from sklearn.metrics import ConfusionMatrixDisplay\n",
    "\n",
    "ConfusionMatrixDisplay.from_predictions(y_test,test_predictions)\n",
    "plt.title(\"Confusion Matrix for Test Data\")\n",
    "plt.grid(False)\n",
    "plt.show()"
   ]
  },
  {
   "cell_type": "markdown",
   "metadata": {},
   "source": [
    "## Using Linear SVM as an alternative to Multinomial Naive Bayes "
   ]
  },
  {
   "cell_type": "code",
   "execution_count": 417,
   "metadata": {},
   "outputs": [
    {
     "data": {
      "text/plain": [
       "SVC(gamma='auto', kernel='linear')"
      ]
     },
     "execution_count": 417,
     "metadata": {},
     "output_type": "execute_result"
    }
   ],
   "source": [
    "from sklearn import svm\n",
    "SVM = svm.SVC(C=1.0, kernel='linear', degree=3, gamma='auto')\n",
    "SVM.fit(training_data,y_train)"
   ]
  },
  {
   "cell_type": "code",
   "execution_count": 418,
   "metadata": {},
   "outputs": [],
   "source": [
    "predictions_SVM = SVM.predict(testing_data)"
   ]
  },
  {
   "cell_type": "code",
   "execution_count": 419,
   "metadata": {},
   "outputs": [
    {
     "name": "stdout",
     "output_type": "stream",
     "text": [
      "Accuracy score:  0.8157894736842105\n",
      "Recall score:  0.8157894736842105\n",
      "Precision score:  0.8157894736842105\n",
      "F1 score:  0.8157894736842106\n"
     ]
    }
   ],
   "source": [
    "print(\"Accuracy score: \", accuracy_score(y_test, predictions_SVM))\n",
    "print(\"Recall score: \", recall_score(y_test, predictions_SVM, average = 'weighted'))\n",
    "print(\"Precision score: \", precision_score(y_test, predictions_SVM, average = 'weighted'))\n",
    "print(\"F1 score: \", f1_score(y_test, predictions_SVM, average = 'weighted'))"
   ]
  },
  {
   "cell_type": "code",
   "execution_count": 420,
   "metadata": {},
   "outputs": [
    {
     "data": {
      "image/png": "[encoded data removed]",
      "text/plain": [
       "<Figure size 640x480 with 2 Axes>"
      ]
     },
     "metadata": {},
     "output_type": "display_data"
    }
   ],
   "source": [
    "from sklearn.metrics import ConfusionMatrixDisplay\n",
    "\n",
    "ConfusionMatrixDisplay.from_predictions(y_test,predictions_SVM)\n",
    "plt.title(\"Confusion Matrix for SVM Test Data\")\n",
    "plt.grid(False)\n",
    "plt.show()"
   ]
  }
 ],
 "metadata": {
  "kernelspec": {
   "display_name": "Python 3.9.13 ('ANLY501')",
   "language": "python",
   "name": "python3"
  },
  "language_info": {
   "codemirror_mode": {
    "name": "ipython",
    "version": 3
   },
   "file_extension": ".py",
   "mimetype": "text/x-python",
   "name": "python",
   "nbconvert_exporter": "python",
   "pygments_lexer": "ipython3",
   "version": "3.9.13"
  },
  "orig_nbformat": 4,
  "vscode": {
   "interpreter": {
    "hash": "fe3850336ae7e16fe4521d887235e5784c5e3aaefe260f8a320996f0c8242fd1"
   }
  }
 },
 "nbformat": 4,
 "nbformat_minor": 2
}
